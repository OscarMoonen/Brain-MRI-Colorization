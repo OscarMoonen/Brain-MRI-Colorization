{
  "nbformat": 4,
  "nbformat_minor": 0,
  "metadata": {
    "colab": {
      "name": "ModelLoad-15-May.ipynb",
      "provenance": [],
      "collapsed_sections": []
    },
    "kernelspec": {
      "name": "python3",
      "display_name": "Python 3"
    },
    "language_info": {
      "name": "python"
    },
    "accelerator": "GPU"
  },
  "cells": [
    {
      "cell_type": "code",
      "execution_count": 1,
      "metadata": {
        "colab": {
          "base_uri": "https://localhost:8080/"
        },
        "id": "YBygL4U4cpMi",
        "outputId": "b18160e2-eada-487b-a2ab-d6f7043fed5a"
      },
      "outputs": [
        {
          "output_type": "stream",
          "name": "stdout",
          "text": [
            "Requirement already satisfied: SSIM-PIL in /usr/local/lib/python3.7/dist-packages (1.0.14)\n",
            "Drive already mounted at /content/drive; to attempt to forcibly remount, call drive.mount(\"/content/drive\", force_remount=True).\n",
            "cuda\n"
          ]
        }
      ],
      "source": [
        "### Imports ###\n",
        "import torch\n",
        "import torch.nn as nn\n",
        "import torch.nn.functional as F\n",
        "from PIL import Image\n",
        "import numpy as np\n",
        "import matplotlib.pyplot as plt\n",
        "import cv2\n",
        "!pip install SSIM-PIL\n",
        "from SSIM_PIL import compare_ssim\n",
        "from PIL import Image\n",
        "from math import log10, sqrt\n",
        "\n",
        "### Mount Drive ###\n",
        "from google.colab import drive\n",
        "drive.mount('/content/drive')\n",
        "\n",
        "### Same Generator Settings from .pt file ###\n",
        "num_blocks = 10\n",
        "transpose2D = False\n",
        "\n",
        "### Set path to G_MC weights ###\n",
        "PATH = \"/content/drive/MyDrive/\" + \"model.pt\" # Location of weights\n",
        "filePath= \"/content/drive/MyDrive/\"           # Location of MRI scans\n",
        "fileNames = [\"fileName1\", \"fileName2\"]        # filenames of the scans (should be .png and 256x256)\n",
        "\n",
        "### Device to produce colorizations ###\n",
        "device = torch.device(\"cuda\" if torch.cuda.is_available() else \"cpu\")\n",
        "print(device)"
      ]
    },
    {
      "cell_type": "code",
      "source": [
        "### Generator MC to do forward pass ###\n",
        "class ResidualBlock(nn.Module):\n",
        "    def __init__(self):\n",
        "        super(ResidualBlock, self).__init__()\n",
        "        self.convRes = nn.Conv2d(256,256,3)\n",
        "        self.reflect1 = nn.ReflectionPad2d(1)\n",
        "        self.norm256 = nn.InstanceNorm2d(256)\n",
        "        self.ReLu = nn.ReLU(inplace=True)\n",
        "    def block(self, x):\n",
        "        x = self.reflect1(x)\n",
        "        x = self.ReLu(self.norm256(self.convRes(x)))\n",
        "        x = self.reflect1(x)\n",
        "        x = self.norm256(self.convRes(x))\n",
        "        return x\n",
        "    def forward(self, x):\n",
        "        return x + self.block(x)\n",
        "  \n",
        "class Generator(nn.Module):\n",
        "    def __init__(self):\n",
        "        super(Generator, self).__init__()\n",
        "\n",
        "        self.conv1 = nn.Conv2d(3, 64, 7, stride = 1)\n",
        "        self.conv2 = nn.Conv2d(64, 128, 3, stride = 2, padding=1)\n",
        "        self.conv3 = nn.Conv2d(128, 256, 3, stride = 2, padding=1)\n",
        "        self.block = ResidualBlock()\n",
        "        self.conv4 = nn.Conv2d(256, 128, 3, stride = 1, padding=1)\n",
        "        self.conv5 = nn.Conv2d(128, 64, 3, stride = 1, padding=1)\n",
        "        self.conv6 = nn.Conv2d(64, 3, 7, stride = 1, padding=0)\n",
        "\n",
        "        self.reflect1 = nn.ReflectionPad2d(1)\n",
        "        self.reflect3 = nn.ReflectionPad2d(3)\n",
        "        self.ReLu = nn.ReLU(inplace=True)\n",
        "        self.tanH = nn.Tanh()\n",
        "\n",
        "        self.upsample = nn.Upsample(scale_factor=2)\n",
        "        self.norm256 = nn.InstanceNorm2d(256)\n",
        "        self.norm128 = nn.InstanceNorm2d(128)\n",
        "        self.norm64 = nn.InstanceNorm2d(64)\n",
        "\n",
        "    def forward(self, x):\n",
        "        x = self.reflect3(x)\n",
        "        x = self.ReLu(self.norm64 (self.conv1(x))) #1\n",
        "        x = self.ReLu(self.norm128(self.conv2(x))) #2\n",
        "        x = self.ReLu(self.norm256(self.conv3(x))) #3\n",
        "        for i in range(num_blocks): \n",
        "            x = self.block(x)\n",
        "        if transpose2D:\n",
        "            x = self.ReLu(self.norm128(self.upsample1(x))) #4\n",
        "            x = self.ReLu(self.norm64(self.upsample2(x))) #5\n",
        "        else:\n",
        "            x = self.ReLu(self.norm128(self.conv4(self.upsample(x)))) #4\n",
        "            x = self.ReLu(self.norm64(self.conv5(self.upsample(x))))  #5    \n",
        "        x = self.reflect3(x)\n",
        "        x = self.tanH(self.conv6(x))\n",
        "        return x\n",
        "\n",
        "### Load StateDict ###\n",
        "Generator_MC = Generator().to(device)\n",
        "Generator_MC .load_state_dict(torch.load(PATH, map_location=torch.device('cpu'))['GMC_state_dict'] )\n",
        "Generator_MC.eval()"
      ],
      "metadata": {
        "colab": {
          "base_uri": "https://localhost:8080/"
        },
        "id": "SK9EKpzIUYV6",
        "outputId": "03162219-6a11-4476-9899-de0cb874f690"
      },
      "execution_count": 2,
      "outputs": [
        {
          "output_type": "execute_result",
          "data": {
            "text/plain": [
              "Generator(\n",
              "  (conv1): Conv2d(3, 64, kernel_size=(7, 7), stride=(1, 1))\n",
              "  (conv2): Conv2d(64, 128, kernel_size=(3, 3), stride=(2, 2), padding=(1, 1))\n",
              "  (conv3): Conv2d(128, 256, kernel_size=(3, 3), stride=(2, 2), padding=(1, 1))\n",
              "  (block): ResidualBlock(\n",
              "    (convRes): Conv2d(256, 256, kernel_size=(3, 3), stride=(1, 1))\n",
              "    (reflect1): ReflectionPad2d((1, 1, 1, 1))\n",
              "    (norm256): InstanceNorm2d(256, eps=1e-05, momentum=0.1, affine=False, track_running_stats=False)\n",
              "    (ReLu): ReLU(inplace=True)\n",
              "  )\n",
              "  (conv4): Conv2d(256, 128, kernel_size=(3, 3), stride=(1, 1), padding=(1, 1))\n",
              "  (conv5): Conv2d(128, 64, kernel_size=(3, 3), stride=(1, 1), padding=(1, 1))\n",
              "  (conv6): Conv2d(64, 3, kernel_size=(7, 7), stride=(1, 1))\n",
              "  (reflect1): ReflectionPad2d((1, 1, 1, 1))\n",
              "  (reflect3): ReflectionPad2d((3, 3, 3, 3))\n",
              "  (ReLu): ReLU(inplace=True)\n",
              "  (tanH): Tanh()\n",
              "  (upsample): Upsample(scale_factor=2.0, mode=nearest)\n",
              "  (norm256): InstanceNorm2d(256, eps=1e-05, momentum=0.1, affine=False, track_running_stats=False)\n",
              "  (norm128): InstanceNorm2d(128, eps=1e-05, momentum=0.1, affine=False, track_running_stats=False)\n",
              "  (norm64): InstanceNorm2d(64, eps=1e-05, momentum=0.1, affine=False, track_running_stats=False)\n",
              ")"
            ]
          },
          "metadata": {},
          "execution_count": 2
        }
      ]
    },
    {
      "cell_type": "code",
      "source": [
        "for i in fileNames:  \n",
        "          prefix = filePath\n",
        "          suffix = \".png\"\n",
        "          path = prefix + str(i) + suffix\n",
        "          testImage = np.asarray(Image.open(path))\n",
        "          testImageScaled = (testImage/127.5) -1\n",
        "          testTensor = torch.tensor(testImageScaled.astype(float).T, requires_grad=False).float().unsqueeze(0).to(device)\n",
        "          outGenerated = Generator_MC(testTensor)   \n",
        "          outGenerated = outGenerated[0].detach()\n",
        "          outGenerated = torch.clip(outGenerated, -1, 1)\n",
        "          outGenerated = ((outGenerated.cpu().numpy().T+1)*127.5).astype(np.uint8)\n",
        "          saveName = str(i) + \"-color\"\n",
        "          im = Image.fromarray(outGenerated)\n",
        "          im.save(prefix +  saveName + suffix)\n"
      ],
      "metadata": {
        "id": "nyfQ49O6c8Jc"
      },
      "execution_count": 3,
      "outputs": []
    }
  ]
}